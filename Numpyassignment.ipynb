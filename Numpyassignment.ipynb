{
 "cells": [
  {
   "cell_type": "markdown",
   "id": "639d7624-13b0-4150-ba76-64e0141a3ac5",
   "metadata": {},
   "source": [
    "1. What is a Python library? Why do we use Python libraries?"
   ]
  },
  {
   "cell_type": "markdown",
   "id": "b18836e5-c12a-4fa2-8e87-b7941ecfd0b5",
   "metadata": {},
   "source": [
    "A Python library is a collection of pre-written Python code that provides functions and methods for performing specific tasks. These libraries are designed to help developers avoid reinventing the wheel by providing commonly used functionalities, such as data manipulation, numerical computation, web development, machine learning algorithms, and more.\n",
    "\n",
    "We use Python libraries for several reasons:\n",
    "\n",
    "Reusability: Libraries contain pre-written code that can be reused across different projects without the need to rewrite it.\n",
    "\n",
    "Productivity: Libraries save time and effort by providing ready-made solutions for common tasks, allowing developers to focus on solving higher-level problems.\n",
    "\n",
    "Functionality: Libraries often offer specialized functionalities that might be complex or time-consuming to implement from scratch.\n",
    "\n",
    "Community Support: Popular Python libraries typically have active communities of developers contributing to their improvement, documentation, and support, which can be valuable resources for developers.\n",
    "\n",
    "Performance: Many Python libraries are optimized for performance, leveraging underlying C or C++ implementations to provide efficient computation.\n",
    "\n",
    "Overall, Python libraries enhance the versatility and power of the Python programming language, making it a popular choice for a wide range of applications and domains.\n",
    "\n",
    "\n",
    "\n",
    "\n",
    "\n"
   ]
  },
  {
   "cell_type": "markdown",
   "id": "c438488e-bbab-4205-88a6-10ec204ad9bf",
   "metadata": {},
   "source": [
    "2. What is the difference between Numpy array and List?"
   ]
  },
  {
   "cell_type": "code",
   "execution_count": 1,
   "id": "f184ceca-f6af-45eb-92bd-f1494de09a8a",
   "metadata": {},
   "outputs": [],
   "source": [
    "import numpy as np"
   ]
  },
  {
   "cell_type": "code",
   "execution_count": 2,
   "id": "bb299929-2dfc-4e7f-b653-96e2fe8938b2",
   "metadata": {},
   "outputs": [
    {
     "data": {
      "text/plain": [
       "[1, 2, 3, 4]"
      ]
     },
     "execution_count": 2,
     "metadata": {},
     "output_type": "execute_result"
    }
   ],
   "source": [
    "list1 = [1, 2, 3, 4]\n",
    "list1"
   ]
  },
  {
   "cell_type": "code",
   "execution_count": 3,
   "id": "f82b4b29-a224-4d8e-914c-207a94e1c3c2",
   "metadata": {},
   "outputs": [
    {
     "data": {
      "text/plain": [
       "array([1, 2, 3, 4])"
      ]
     },
     "execution_count": 3,
     "metadata": {},
     "output_type": "execute_result"
    }
   ],
   "source": [
    "arr = np.array([1, 2, 3, 4])\n",
    "arr"
   ]
  },
  {
   "cell_type": "markdown",
   "id": "984c439f-be8a-43f1-83be-4e9dc0d2cef3",
   "metadata": {},
   "source": [
    "NumPy arrays and Python lists are both used to store collections of data, but there are several key differences between them:\n",
    "\n",
    "Data Types: In a NumPy array, all elements must be of the same data type (e.g., integers, floats), whereas Python lists can contain elements of different data types.\n",
    "\n",
    "Memory Efficiency: NumPy arrays are more memory efficient compared to Python lists. This efficiency comes from the fact that NumPy arrays are homogeneous and store data in a contiguous block of memory, while lists are heterogeneous and store references to objects.\n",
    "\n",
    "Performance: NumPy arrays offer better performance for mathematical operations and numerical computations compared to Python lists. This performance improvement is due to NumPy's ability to leverage optimized, pre-compiled C code for many operations.\n",
    "\n",
    "Functionality: NumPy arrays provide a wide range of built-in functions and methods for numerical operations, such as element-wise operations, linear algebra, Fourier transforms, and more. Python lists have fewer built-in functions and methods tailored specifically for numerical computations.\n",
    "\n",
    "Syntax and Usage: NumPy arrays are created using the numpy.array() function, and their elements are accessed using indexing and slicing syntax similar to Python lists. However, NumPy arrays offer additional functionalities like broadcasting and vectorized operations, which are not available with Python lists."
   ]
  },
  {
   "cell_type": "markdown",
   "id": "d4ceb499-90cc-417f-9c1b-097295674ff0",
   "metadata": {},
   "source": [
    "3. Find the shape, size and dimension of the following array?\n",
    "[[1, 2, 3, 4]\n",
    "[5, 6, 7, 8],\n",
    "[9, 10, 11, 12]]"
   ]
  },
  {
   "cell_type": "code",
   "execution_count": 4,
   "id": "8ead40d1-b5de-4d4e-a007-563430715ee4",
   "metadata": {},
   "outputs": [],
   "source": [
    "arr = np.array([[1, 2, 3, 4],[5, 6, 7, 8],[9, 10, 11, 12]])"
   ]
  },
  {
   "cell_type": "code",
   "execution_count": 5,
   "id": "6b25c526-a8a1-46bf-891f-1f2ab5105b5f",
   "metadata": {},
   "outputs": [
    {
     "data": {
      "text/plain": [
       "array([[ 1,  2,  3,  4],\n",
       "       [ 5,  6,  7,  8],\n",
       "       [ 9, 10, 11, 12]])"
      ]
     },
     "execution_count": 5,
     "metadata": {},
     "output_type": "execute_result"
    }
   ],
   "source": [
    "arr"
   ]
  },
  {
   "cell_type": "code",
   "execution_count": 6,
   "id": "b327f94d-f9da-40bf-bcff-bf7751f647e5",
   "metadata": {},
   "outputs": [
    {
     "data": {
      "text/plain": [
       "12"
      ]
     },
     "execution_count": 6,
     "metadata": {},
     "output_type": "execute_result"
    }
   ],
   "source": [
    "#finding Size\n",
    "arr.size "
   ]
  },
  {
   "cell_type": "code",
   "execution_count": 7,
   "id": "765ba29f-c9c4-4dcc-89a1-41a73a26c627",
   "metadata": {},
   "outputs": [
    {
     "data": {
      "text/plain": [
       "(3, 4)"
      ]
     },
     "execution_count": 7,
     "metadata": {},
     "output_type": "execute_result"
    }
   ],
   "source": [
    "#finding Shape\n",
    "arr.shape"
   ]
  },
  {
   "cell_type": "code",
   "execution_count": 8,
   "id": "d5d9a137-4dfc-4bd6-a60c-9695963bfdc5",
   "metadata": {},
   "outputs": [
    {
     "data": {
      "text/plain": [
       "2"
      ]
     },
     "execution_count": 8,
     "metadata": {},
     "output_type": "execute_result"
    }
   ],
   "source": [
    "#finding dimension\n",
    "arr.ndim"
   ]
  },
  {
   "cell_type": "markdown",
   "id": "2bac48f7-3357-4133-b2d0-4c0b0a12f96e",
   "metadata": {},
   "source": [
    "1. We have created a array in the variable called arr\n",
    "2. Then we import the libnrary called numpy\n",
    "3. After importing the numpy we have given alias as np\n",
    "4. To find the shape of the data we have the method called arr.shape\n",
    "5. To find the size of the data in numpy we have the method called arr.size\n",
    "6. To find the dimension of the data in numpy we have the method called arr.ndim"
   ]
  },
  {
   "cell_type": "markdown",
   "id": "3484aedd-1e22-43de-b22b-783cf6be099f",
   "metadata": {},
   "source": [
    "4. Write python code to access the first row of the following array?\n",
    "[[1, 2, 3, 4]\n",
    "[5, 6, 7, 8],\n",
    "[9, 10, 11, 12]]"
   ]
  },
  {
   "cell_type": "code",
   "execution_count": 9,
   "id": "e913626d-5ecd-4b8a-b6d3-e9404e162e74",
   "metadata": {},
   "outputs": [
    {
     "data": {
      "text/plain": [
       "array([[ 1,  2,  3,  4],\n",
       "       [ 5,  6,  7,  8],\n",
       "       [ 9, 10, 11, 12]])"
      ]
     },
     "execution_count": 9,
     "metadata": {},
     "output_type": "execute_result"
    }
   ],
   "source": [
    "arr = np.array([[1, 2, 3, 4], [5, 6, 7, 8], [9, 10, 11, 12]])\n",
    "arr"
   ]
  },
  {
   "cell_type": "code",
   "execution_count": 10,
   "id": "01a7061f-8d8c-4503-8798-e3ecf1b51217",
   "metadata": {},
   "outputs": [
    {
     "data": {
      "text/plain": [
       "array([1, 2, 3, 4])"
      ]
     },
     "execution_count": 10,
     "metadata": {},
     "output_type": "execute_result"
    }
   ],
   "source": [
    "arr[0]"
   ]
  },
  {
   "cell_type": "markdown",
   "id": "4a83a540-2f62-4596-853a-5b186031fa0d",
   "metadata": {},
   "source": [
    "1. First we import numpy as np\n",
    "2. we have created an array using np.array in the variable called arr\n",
    "3. By using slicing method in array we found the first row of the data\n",
    "4. Print the result"
   ]
  },
  {
   "cell_type": "markdown",
   "id": "4998c88a-318e-4beb-9d5d-6312d675d992",
   "metadata": {},
   "source": [
    "5. How do you access the element at the third row and fourth column from the given numpy array?\n",
    "[[1, 2, 3, 4]\n",
    "[5, 6, 7, 8],\n",
    "[9, 10, 11, 12]]"
   ]
  },
  {
   "cell_type": "code",
   "execution_count": 11,
   "id": "1ca2b95e-2d36-4955-9542-b9b26aae97c2",
   "metadata": {},
   "outputs": [
    {
     "data": {
      "text/plain": [
       "array([[ 1,  2,  3,  4],\n",
       "       [ 5,  6,  7,  8],\n",
       "       [ 9, 10, 11, 12]])"
      ]
     },
     "execution_count": 11,
     "metadata": {},
     "output_type": "execute_result"
    }
   ],
   "source": [
    "arr = np.array([[1, 2, 3, 4], [5, 6, 7, 8],[9, 10, 11, 12]])\n",
    "arr"
   ]
  },
  {
   "cell_type": "code",
   "execution_count": 12,
   "id": "910cd12f-d98f-40ce-9b68-8dddd839c855",
   "metadata": {},
   "outputs": [
    {
     "data": {
      "text/plain": [
       "12"
      ]
     },
     "execution_count": 12,
     "metadata": {},
     "output_type": "execute_result"
    }
   ],
   "source": [
    "arr[2][3]"
   ]
  },
  {
   "cell_type": "markdown",
   "id": "735af414-5360-48f3-9421-727a80343070",
   "metadata": {},
   "source": [
    "1. First we import numpy as np\n",
    "2. we have created an array using np.array in the variable called arr\n",
    "3. By using slicing method in array we found the third row and fourth column of the data\n",
    "4. Print the result"
   ]
  },
  {
   "cell_type": "markdown",
   "id": "18e21889-d667-4c63-b206-80787e570cc6",
   "metadata": {},
   "source": [
    "6. Write code to extract all odd-indexed elements from the given numpy array?\n",
    "[[1, 2, 3, 4]\n",
    "[5, 6, 7, 8],\n",
    "[9, 10, 11, 12]]"
   ]
  },
  {
   "cell_type": "code",
   "execution_count": 13,
   "id": "26dd3336-3a20-49d1-82ac-eb851dd9db62",
   "metadata": {},
   "outputs": [
    {
     "data": {
      "text/plain": [
       "array([[ 1,  2,  3,  4],\n",
       "       [ 5,  6,  7,  8],\n",
       "       [ 9, 10, 11, 12]])"
      ]
     },
     "execution_count": 13,
     "metadata": {},
     "output_type": "execute_result"
    }
   ],
   "source": [
    "arr = np.array([[1, 2, 3, 4], [5, 6, 7, 8], [9, 10, 11, 12]])\n",
    "arr"
   ]
  },
  {
   "cell_type": "code",
   "execution_count": 14,
   "id": "f2172e2f-b0ed-41d8-b5b5-22569ebbe646",
   "metadata": {},
   "outputs": [
    {
     "data": {
      "text/plain": [
       "array([[ 2,  4],\n",
       "       [ 6,  8],\n",
       "       [10, 12]])"
      ]
     },
     "execution_count": 14,
     "metadata": {},
     "output_type": "execute_result"
    }
   ],
   "source": [
    "arr[:, 1::2]"
   ]
  },
  {
   "cell_type": "markdown",
   "id": "41cded29-b436-4d29-8907-2955221f80ee",
   "metadata": {},
   "source": [
    "1. First we import numpy as np\n",
    "2. we have created an array using np.array in the variable called arr\n",
    "3. By using slicing method in array we found the odd indexed  element of the data\n",
    "4. Print the result"
   ]
  },
  {
   "cell_type": "markdown",
   "id": "f1704690-20b6-4368-9054-8478399c3f22",
   "metadata": {},
   "source": [
    "7. How can you generate a random 3x3 matrix with values between 0 and 1?"
   ]
  },
  {
   "cell_type": "code",
   "execution_count": 15,
   "id": "56ec2af7-6726-4d10-99e3-e2e6fd41f70c",
   "metadata": {},
   "outputs": [
    {
     "data": {
      "text/plain": [
       "array([[0.32637221, 0.52853107, 0.83479731],\n",
       "       [0.55132484, 0.972044  , 0.73864886],\n",
       "       [0.53232862, 0.79796634, 0.55505995]])"
      ]
     },
     "execution_count": 15,
     "metadata": {},
     "output_type": "execute_result"
    }
   ],
   "source": [
    "arr = np.random.rand(3,3)\n",
    "arr"
   ]
  },
  {
   "cell_type": "markdown",
   "id": "ba6b99c8-8db6-4d24-8714-77311737fbf1",
   "metadata": {},
   "source": [
    "1. First we import numpy as np\n",
    "2. we have created an array using random numbers in the variable called arr\n",
    "3. By using random.rand method in array we created random numbers of 3 x 3 matrix between the value 0 and 1\n",
    "4. Print the result"
   ]
  },
  {
   "cell_type": "markdown",
   "id": "514c13bd-8afd-4121-aa81-7c97ab006447",
   "metadata": {},
   "source": [
    "8. Describe the ^ifference between np.ran^om.ran^ an^ np.ran^om.ran^n?"
   ]
  },
  {
   "cell_type": "code",
   "execution_count": 17,
   "id": "5558d977-dba0-4bc3-9954-db08c5ed4b17",
   "metadata": {},
   "outputs": [
    {
     "data": {
      "text/plain": [
       "array([[0.37279433, 0.2833659 , 0.43583231],\n",
       "       [0.40701575, 0.5365321 , 0.81914296],\n",
       "       [0.17607583, 0.56972864, 0.06225098]])"
      ]
     },
     "execution_count": 17,
     "metadata": {},
     "output_type": "execute_result"
    }
   ],
   "source": [
    "#using rand\n",
    "random_matrix = np.random.rand(3, 3)\n",
    "random_matrix"
   ]
  },
  {
   "cell_type": "code",
   "execution_count": 18,
   "id": "3e2d0ab8-852e-4bb7-88b8-2a03a10314fb",
   "metadata": {},
   "outputs": [
    {
     "data": {
      "text/plain": [
       "array([[-0.38837324, -0.13155998, -0.10599894],\n",
       "       [-1.19067287, -0.80898923,  1.38474057],\n",
       "       [-1.03380481, -1.1570599 ,  0.37750391]])"
      ]
     },
     "execution_count": 18,
     "metadata": {},
     "output_type": "execute_result"
    }
   ],
   "source": [
    "#using randn\n",
    "random_matrix = np.random.randn(3, 3)\n",
    "random_matrix"
   ]
  },
  {
   "cell_type": "markdown",
   "id": "554219a8-99aa-44bc-ac68-4c1985520250",
   "metadata": {},
   "source": [
    "1. np.random.rand: This function generates random numbers from a uniform distribution between 0 and 1.\n",
    "2. np.random.randn: This function generates random numbers from a standard normal distribution (mean=0, standard deviation=1). "
   ]
  },
  {
   "cell_type": "markdown",
   "id": "907180f4-a32b-4838-94cd-ed6335c530f6",
   "metadata": {},
   "source": [
    "9. Write code to increase the dimension of the following array?\n",
    "[[1, 2, 3, 4]\n",
    "[5, 6, 7, 8],\n",
    "[9, 10, 11, 12]]"
   ]
  },
  {
   "cell_type": "code",
   "execution_count": 30,
   "id": "2e5e968f-d00c-4f36-85ee-ec633ffb1cf3",
   "metadata": {},
   "outputs": [
    {
     "data": {
      "text/plain": [
       "array([[ 1,  2,  3,  4],\n",
       "       [ 5,  6,  7,  8],\n",
       "       [ 9, 10, 11, 12]])"
      ]
     },
     "execution_count": 30,
     "metadata": {},
     "output_type": "execute_result"
    }
   ],
   "source": [
    "arr = np.array([[1, 2, 3, 4], [5, 6, 7, 8], [9, 10, 11, 12]])\n",
    "arr\n"
   ]
  },
  {
   "cell_type": "code",
   "execution_count": 31,
   "id": "40d2efe3-ad56-4bbd-8370-6687dc906c26",
   "metadata": {},
   "outputs": [
    {
     "data": {
      "text/plain": [
       "2"
      ]
     },
     "execution_count": 31,
     "metadata": {},
     "output_type": "execute_result"
    }
   ],
   "source": [
    "arr.ndim"
   ]
  },
  {
   "cell_type": "code",
   "execution_count": 32,
   "id": "d76f177d-00c5-4dfd-90d8-93cb3e49a730",
   "metadata": {},
   "outputs": [
    {
     "data": {
      "text/plain": [
       "array([[[ 1,  2,  3,  4],\n",
       "        [ 5,  6,  7,  8],\n",
       "        [ 9, 10, 11, 12]]])"
      ]
     },
     "execution_count": 32,
     "metadata": {},
     "output_type": "execute_result"
    }
   ],
   "source": [
    "arr1 = np.expand_dims(arr, axis = 0)\n",
    "arr1"
   ]
  },
  {
   "cell_type": "code",
   "execution_count": 33,
   "id": "3eb8296a-a6b3-428e-8ac5-a6ae6baedeb0",
   "metadata": {},
   "outputs": [
    {
     "data": {
      "text/plain": [
       "3"
      ]
     },
     "execution_count": 33,
     "metadata": {},
     "output_type": "execute_result"
    }
   ],
   "source": [
    "arr1.ndim"
   ]
  },
  {
   "cell_type": "markdown",
   "id": "a565440a-49e9-4552-bf89-75263dd8f3c4",
   "metadata": {},
   "source": [
    "1. Import numpy as np\n",
    "2. we create a array in the variable called arr using np.array method\n",
    "3. Using np.exapand_dims method it will increase the dimension of the data by 1 row wise if we put the parameter axis = 0\n",
    "4. Print the result"
   ]
  },
  {
   "cell_type": "markdown",
   "id": "df3c3c17-dc43-4aa4-8d1e-152fbc1694ef",
   "metadata": {},
   "source": [
    "10. How to transpose the following array in NumPy?\n",
    "[[1, 2, 3, 4]\n",
    "[5, 6, 7, 8],\n",
    "[9, 10, 11, 12]]"
   ]
  },
  {
   "cell_type": "code",
   "execution_count": 35,
   "id": "60a38252-5678-474d-ac62-d8c32d415492",
   "metadata": {},
   "outputs": [
    {
     "data": {
      "text/plain": [
       "array([[ 1,  2,  3,  4],\n",
       "       [ 5,  6,  7,  8],\n",
       "       [ 9, 10, 11, 12]])"
      ]
     },
     "execution_count": 35,
     "metadata": {},
     "output_type": "execute_result"
    }
   ],
   "source": [
    "arr = np.array([[1, 2, 3, 4], [5, 6, 7, 8], [9, 10, 11, 12]])\n",
    "arr"
   ]
  },
  {
   "cell_type": "code",
   "execution_count": 36,
   "id": "0eca4cad-0e01-475d-b087-32081909c761",
   "metadata": {},
   "outputs": [
    {
     "data": {
      "text/plain": [
       "array([[ 1,  5,  9],\n",
       "       [ 2,  6, 10],\n",
       "       [ 3,  7, 11],\n",
       "       [ 4,  8, 12]])"
      ]
     },
     "execution_count": 36,
     "metadata": {},
     "output_type": "execute_result"
    }
   ],
   "source": [
    "arr.T"
   ]
  },
  {
   "cell_type": "markdown",
   "id": "9fac67ea-a988-4c1c-82f5-53b0f62add80",
   "metadata": {},
   "source": [
    "1. Import numpy as np\n",
    "2. we create a array in the variable called arr using np.array method\n",
    "3. Using np.T method it will transpose the data\n",
    "4. Print the result"
   ]
  },
  {
   "cell_type": "markdown",
   "id": "5e0ebb76-57be-4770-a5e2-104d1ec778e7",
   "metadata": {},
   "source": [
    "11. Consider the following matrix:\n",
    "Matrix A2 [[1, 2, 3, 4] [5, 6, 7, 8],[9, 10, 11, 12]]\n",
    "Matrix B2 [[1, 2, 3, 4] [5, 6, 7, 8],[9, 10, 11, 12]]"
   ]
  },
  {
   "cell_type": "code",
   "execution_count": 65,
   "id": "04673a95-275e-4496-8f39-352eed9e7f3e",
   "metadata": {},
   "outputs": [
    {
     "data": {
      "text/plain": [
       "array([[ 1,  2,  3,  4],\n",
       "       [ 5,  6,  7,  8],\n",
       "       [ 9, 10, 11, 12]])"
      ]
     },
     "execution_count": 65,
     "metadata": {},
     "output_type": "execute_result"
    }
   ],
   "source": [
    "A = np.array([[1, 2, 3, 4],[5, 6, 7, 8],[9, 10, 11, 12]])\n",
    "A"
   ]
  },
  {
   "cell_type": "code",
   "execution_count": 66,
   "id": "eaa5287b-3546-4226-b404-beb4f6840231",
   "metadata": {},
   "outputs": [
    {
     "data": {
      "text/plain": [
       "array([[ 1,  2,  3,  4],\n",
       "       [ 5,  6,  7,  8],\n",
       "       [ 9, 10, 11, 12]])"
      ]
     },
     "execution_count": 66,
     "metadata": {},
     "output_type": "execute_result"
    }
   ],
   "source": [
    "B = np.array([[1, 2, 3, 4],[5, 6, 7, 8],[9, 10, 11, 12]])\n",
    "B"
   ]
  },
  {
   "cell_type": "code",
   "execution_count": 67,
   "id": "884988e9-bec4-4839-88b5-1659572a9e09",
   "metadata": {},
   "outputs": [
    {
     "data": {
      "text/plain": [
       "array([[  1,   4,   9,  16],\n",
       "       [ 25,  36,  49,  64],\n",
       "       [ 81, 100, 121, 144]])"
      ]
     },
     "execution_count": 67,
     "metadata": {},
     "output_type": "execute_result"
    }
   ],
   "source": [
    "# 1. Index wise multiplication\n",
    "arr = A * B\n",
    "arr"
   ]
  },
  {
   "cell_type": "code",
   "execution_count": 68,
   "id": "4a16855b-4879-4b09-8c77-ba2ff8238e07",
   "metadata": {},
   "outputs": [
    {
     "data": {
      "text/plain": [
       "array([[107, 122, 137, 152],\n",
       "       [122, 140, 158, 176],\n",
       "       [137, 158, 179, 200],\n",
       "       [152, 176, 200, 224]])"
      ]
     },
     "execution_count": 68,
     "metadata": {},
     "output_type": "execute_result"
    }
   ],
   "source": [
    "# 2.Matix multiplication\n",
    "C = A.T\n",
    "arr = C @ B\n",
    "arr"
   ]
  },
  {
   "cell_type": "code",
   "execution_count": 69,
   "id": "eae0755d-349f-4561-bc31-46e2c61d22cf",
   "metadata": {},
   "outputs": [
    {
     "data": {
      "text/plain": [
       "array([[ 2,  4,  6,  8],\n",
       "       [10, 12, 14, 16],\n",
       "       [18, 20, 22, 24]])"
      ]
     },
     "execution_count": 69,
     "metadata": {},
     "output_type": "execute_result"
    }
   ],
   "source": [
    "# 3. Add both the matix\n",
    "arr = A + B\n",
    "arr"
   ]
  },
  {
   "cell_type": "code",
   "execution_count": 70,
   "id": "4937795d-ea98-4252-8e35-9f8c72ff1c81",
   "metadata": {},
   "outputs": [
    {
     "data": {
      "text/plain": [
       "array([[0, 0, 0, 0],\n",
       "       [0, 0, 0, 0],\n",
       "       [0, 0, 0, 0]])"
      ]
     },
     "execution_count": 70,
     "metadata": {},
     "output_type": "execute_result"
    }
   ],
   "source": [
    "# 4. Subtact matix B from A\n",
    "arr = A - B\n",
    "arr"
   ]
  },
  {
   "cell_type": "code",
   "execution_count": 71,
   "id": "035751d4-558a-4771-8424-fb7065926fbf",
   "metadata": {},
   "outputs": [
    {
     "data": {
      "text/plain": [
       "array([[1., 1., 1., 1.],\n",
       "       [1., 1., 1., 1.],\n",
       "       [1., 1., 1., 1.]])"
      ]
     },
     "execution_count": 71,
     "metadata": {},
     "output_type": "execute_result"
    }
   ],
   "source": [
    "# 5. Subtact matix B by A\n",
    "arr = B / A\n",
    "arr"
   ]
  },
  {
   "cell_type": "markdown",
   "id": "b8cd0042-31ed-48e7-b115-b4f5cb66bd59",
   "metadata": {},
   "source": [
    "12. Which function in Numpy can be used to swap the byte order of an array?"
   ]
  },
  {
   "cell_type": "code",
   "execution_count": 72,
   "id": "1072d3e7-67a6-47f9-9bc8-967d654f95a1",
   "metadata": {},
   "outputs": [
    {
     "name": "stdout",
     "output_type": "stream",
     "text": [
      "Original array: [1 2 3 4]\n",
      "Array with swapped byte order: [16777216 33554432 50331648 67108864]\n"
     ]
    }
   ],
   "source": [
    "import numpy as np\n",
    "\n",
    "# Create an array\n",
    "arr = np.array([1, 2, 3, 4], dtype=np.int32)\n",
    "\n",
    "# Swap byte order\n",
    "arr_swapped = arr.byteswap()\n",
    "\n",
    "print(\"Original array:\", arr)\n",
    "print(\"Array with swapped byte order:\", arr_swapped)"
   ]
  },
  {
   "cell_type": "markdown",
   "id": "70aee7a3-7dcd-4112-9495-acd0552187b8",
   "metadata": {},
   "source": [
    "1. Import numpy as np\n",
    "2. we create a array in the variable called arr using np.array method\n",
    "3. Using arr.byteswap method it will swap the byte order of an array\n",
    "4. Print the result"
   ]
  },
  {
   "cell_type": "markdown",
   "id": "470c4d8d-6358-4c9c-8308-05f07a84e44f",
   "metadata": {},
   "source": [
    "13. What is the significance of the np.linalg.inv function?"
   ]
  },
  {
   "cell_type": "code",
   "execution_count": 73,
   "id": "c601d2cb-6254-435d-94e2-9c72a5be7376",
   "metadata": {},
   "outputs": [
    {
     "name": "stdout",
     "output_type": "stream",
     "text": [
      "Original matrix:\n",
      "[[1 2]\n",
      " [3 4]]\n",
      "\n",
      "Inverse matrix:\n",
      "[[-2.   1. ]\n",
      " [ 1.5 -0.5]]\n"
     ]
    }
   ],
   "source": [
    "A = np.array([[1, 2],\n",
    "              [3, 4]])\n",
    "\n",
    "# Compute the inverse\n",
    "A_inv = np.linalg.inv(A)\n",
    "\n",
    "print(\"Original matrix:\")\n",
    "print(A)\n",
    "print(\"\\nInverse matrix:\")\n",
    "print(A_inv)"
   ]
  },
  {
   "cell_type": "markdown",
   "id": "2bbb756a-e107-4ac2-b231-52c9fa81b227",
   "metadata": {},
   "source": [
    "The np.linalg.inv function in NumPy is used to compute the inverse of a square matrix. The significance of computing the inverse of a matrix lies in various mathematical and practical applications:\n",
    "\n",
    "Solving systems of linear equations: One of the primary uses of matrix inversion is in solving systems of linear equations. Given a system of equations in the form Ax = b, where A is a square matrix of coefficients, x is a column vector of variables, and b is a column vector of constants, you can solve for x by computing the inverse of A and then multiplying it by b: x = A⁻¹ * b.\n",
    "\n",
    "Matrix equations: In many mathematical and engineering problems, matrices play a central role in describing relationships between variables. Inverting matrices allows you to solve matrix equations, which can arise in various contexts, such as optimization, control theory, and signal processing.\n",
    "\n",
    "Eigenvalue and eigenvector computation: In some cases, the inverse of a matrix is needed to compute its eigenvalues and eigenvectors. These quantities are essential in various fields, including physics, engineering, and data analysis.\n",
    "\n",
    "Numerical stability: In some cases, computing the inverse of a matrix directly may lead to numerical instability due to round-off errors. However, techniques such as LU decomposition followed by back substitution or iterative methods like the Gauss-Seidel method are often used for solving linear systems more efficiently and accurately.\n",
    "\n",
    "It's important to note that not all matrices have inverses. A square matrix A is invertible (or nonsingular) if and only if its determinant is nonzero. If the determinant of A is zero, then the matrix is singular, and its inverse does not exist."
   ]
  },
  {
   "cell_type": "markdown",
   "id": "9b88efb4-5d30-4f76-a847-74ed99293e2e",
   "metadata": {},
   "source": [
    "14. What does the np.reshape function do, and how is it used?"
   ]
  },
  {
   "cell_type": "code",
   "execution_count": 74,
   "id": "5a2cc5ea-17f8-47c7-90f4-c71c41408629",
   "metadata": {},
   "outputs": [
    {
     "name": "stdout",
     "output_type": "stream",
     "text": [
      "Original array:\n",
      "[1 2 3 4 5 6]\n",
      "\n",
      "Reshaped array:\n",
      "[[1 2 3]\n",
      " [4 5 6]]\n"
     ]
    }
   ],
   "source": [
    "# Define an array\n",
    "arr = np.array([1, 2, 3, 4, 5, 6])\n",
    "\n",
    "# Reshape the array to a 2x3 matrix\n",
    "reshaped_arr = np.reshape(arr, (2, 3))\n",
    "\n",
    "print(\"Original array:\")\n",
    "print(arr)\n",
    "print(\"\\nReshaped array:\")\n",
    "print(reshaped_arr)"
   ]
  },
  {
   "cell_type": "markdown",
   "id": "0d6bfe87-6cf3-4989-8cb2-4745f0627258",
   "metadata": {},
   "source": [
    "In this example, the original array arr had 6 elements, and by reshaping it to a 2x3 matrix, the shape was changed while preserving the original data.\n",
    "\n",
    "It's important to note that the np.reshape function does not change the original array; it returns a new array with the specified shape. Additionally, the reshaping operation must be compatible with the number of elements in the original array; otherwise, a ValueError will be raised."
   ]
  },
  {
   "cell_type": "code",
   "execution_count": null,
   "id": "0e02fc0a-73f6-44dc-bcfd-b60721a6969a",
   "metadata": {},
   "outputs": [],
   "source": []
  },
  {
   "cell_type": "code",
   "execution_count": null,
   "id": "21437b3b-7e11-48c7-84c0-7b9c769e0d62",
   "metadata": {},
   "outputs": [],
   "source": [
    "# Define a 2x3 array\n",
    "arr1 = np.array([[1, 2, 3],\n",
    "                 [4, 5, 6]])\n",
    "\n",
    "# Define a 1x3 array\n",
    "arr2 = np.array([10, 20, 30])\n",
    "\n",
    "# Perform broadcasting in the operation\n",
    "result = arr1 + arr2\n",
    "\n",
    "print(\"Array 1:\")\n",
    "print(arr1)\n",
    "print(\"\\nArray 2:\")\n",
    "print(arr2)\n",
    "print(\"\\nResult after broadcasting:\")\n",
    "print(result)"
   ]
  }
 ],
 "metadata": {
  "kernelspec": {
   "display_name": "Python 3 (ipykernel)",
   "language": "python",
   "name": "python3"
  },
  "language_info": {
   "codemirror_mode": {
    "name": "ipython",
    "version": 3
   },
   "file_extension": ".py",
   "mimetype": "text/x-python",
   "name": "python",
   "nbconvert_exporter": "python",
   "pygments_lexer": "ipython3",
   "version": "3.10.8"
  }
 },
 "nbformat": 4,
 "nbformat_minor": 5
}
